{
 "cells": [
  {
   "cell_type": "markdown",
   "metadata": {},
   "source": [
    "# Module Setup"
   ]
  },
  {
   "cell_type": "code",
   "execution_count": 1,
   "metadata": {
    "collapsed": false
   },
   "outputs": [
    {
     "name": "stderr",
     "output_type": "stream",
     "text": [
      "Using TensorFlow backend.\n"
     ]
    }
   ],
   "source": [
    "_BATCH = 32\n",
    "_EPOCHS = 40\n",
    "_CLASSES = 10\n",
    "# Image augmentation may be neccesary for jitter and more examples\n",
    "_AUGMENT = True\n",
    "from keras.datasets import cifar10\n",
    "from keras import callbacks as kCall\n",
    "from keras.models import Sequential\n",
    "from keras.layers import Dense, Flatten, Dropout, Activation\n",
    "from keras.layers import Convolution2D, MaxPooling2D\n",
    "from keras.engine.topology import InputLayer\n",
    "from keras.utils import np_utils, generic_utils\n",
    "from keras import backend as K\n",
    "from keras.constraints import MaxNorm\n",
    "K.set_image_dim_ordering('th')\n",
    "import keras\n",
    "import numpy as np\n",
    "import matplotlib.pyplot as plt\n",
    "import random\n",
    "import pdb\n",
    "from keras import layers\n",
    "import math\n",
    "from tqdm import tqdm\n",
    "import os"
   ]
  },
  {
   "cell_type": "markdown",
   "metadata": {},
   "source": [
    "# Importing the dataset"
   ]
  },
  {
   "cell_type": "code",
   "execution_count": 2,
   "metadata": {
    "collapsed": false
   },
   "outputs": [
    {
     "name": "stdout",
     "output_type": "stream",
     "text": [
      "train Shape:   (50000, 3, 32, 32)\n",
      "train Exmpl:   50000\n",
      "test  Exmpl:   10000\n"
     ]
    }
   ],
   "source": [
    "(trainX,trainY),(testX,testY) = cifar10.load_data()\n",
    "print ('train Shape:  ', trainX.shape)\n",
    "print ('train Exmpl:  ', trainX.shape[0])\n",
    "print ('test  Exmpl:  ', testX.shape[0])\n",
    "trainX = trainX.astype('float32')\n",
    "testX = testX.astype('float32')\n",
    "trainX /= 255.0\n",
    "testX /= 255.0\n",
    "\n",
    "trainY  = np_utils.to_categorical(trainY)\n",
    "testY   = np_utils.to_categorical(testY)\n",
    "_CLASSES = trainY.shape[1]"
   ]
  },
  {
   "cell_type": "markdown",
   "metadata": {},
   "source": [
    "# Loading a model"
   ]
  },
  {
   "cell_type": "markdown",
   "metadata": {},
   "source": [
    "Here we load one of the saved models for visualization"
   ]
  },
  {
   "cell_type": "code",
   "execution_count": 3,
   "metadata": {
    "collapsed": false
   },
   "outputs": [],
   "source": [
    "wtN = 39\n",
    "wtN = str(wtN).zfill(2)\n",
    "file=\"weights/wt-\" + wtN + \".hdf5\"\n",
    "model = keras.models.Sequential()\n",
    "model = keras.models.load_model(\"model_params\")\n",
    "model.load_weights(file)"
   ]
  },
  {
   "cell_type": "markdown",
   "metadata": {},
   "source": [
    "Just a quick evaluation to ensure that the model was loaded correctly. We run on a subset of the test images for faster computation on a CPU. subset can be expanded for faster machines."
   ]
  },
  {
   "cell_type": "code",
   "execution_count": 4,
   "metadata": {
    "collapsed": false
   },
   "outputs": [
    {
     "name": "stdout",
     "output_type": "stream",
     "text": [
      "500/500 [==============================] - ETA: 3s\b\b\b\b\b\b\b\b\b\b\b\b\b\b\b\b\b\b\b\b\b\b\b\b\b\b\b\b\b\b\b\b\b\b\b\b\b\b\b\b\b\b\b\b\b\b\b\b\b\b - ETA: 2s\b\b\b\b\b\b\b\b\b\b\b\b\b\b\b\b\b\b\b\b\b\b\b\b\b\b\b\b\b\b\b\b\b\b\b\b\b\b\b\b\b\b\b\b\b\b\b\b\b\b - ETA: 2s\b\b\b\b\b\b\b\b\b\b\b\b\b\b\b\b\b\b\b\b\b\b\b\b\b\b\b\b\b\b\b\b\b\b\b\b\b\b\b\b\b\b\b\b\b\b\b\b\b\b - ETA: 2s\b\b\b\b\b\b\b\b\b\b\b\b\b\b\b\b\b\b\b\b\b\b\b\b\b\b\b\b\b\b\b\b\b\b\b\b\b\b\b\b\b\b\b\b\b\b\b\b\b\b - ETA: 1s\b\b\b\b\b\b\b\b\b\b\b\b\b\b\b\b\b\b\b\b\b\b\b\b\b\b\b\b\b\b\b\b\b\b\b\b\b\b\b\b\b\b\b\b\b\b\b\b\b\b - ETA: 1s\b\b\b\b\b\b\b\b\b\b\b\b\b\b\b\b\b\b\b\b\b\b\b\b\b\b\b\b\b\b\b\b\b\b\b\b\b\b\b\b\b\b\b\b\b\b\b\b\b\b - ETA: 1s\b\b\b\b\b\b\b\b\b\b\b\b\b\b\b\b\b\b\b\b\b\b\b\b\b\b\b\b\b\b\b\b\b\b\b\b\b\b\b\b\b\b\b\b\b\b\b\b\b\b - ETA: 1s\b\b\b\b\b\b\b\b\b\b\b\b\b\b\b\b\b\b\b\b\b\b\b\b\b\b\b\b\b\b\b\b\b\b\b\b\b\b\b\b\b\b\b\b\b\b\b\b\b\b - ETA: 1s\b\b\b\b\b\b\b\b\b\b\b\b\b\b\b\b\b\b\b\b\b\b\b\b\b\b\b\b\b\b\b\b\b\b\b\b\b\b\b\b\b\b\b\b\b\b\b\b\b\b - ETA: 0s\b\b\b\b\b\b\b\b\b\b\b\b\b\b\b\b\b\b\b\b\b\b\b\b\b\b\b\b\b\b\b\b\b\b\b\b\b\b\b\b\b\b\b\b\b\b\b\b\b\b - ETA: 0s\b\b\b\b\b\b\b\b\b\b\b\b\b\b\b\b\b\b\b\b\b\b\b\b\b\b\b\b\b\b\b\b\b\b\b\b\b\b\b\b\b\b\b\b\b\b\b\b\b\b - ETA: 0s\b\b\b\b\b\b\b\b\b\b\b\b\b\b\b\b\b\b\b\b\b\b\b\b\b\b\b\b\b\b\b\b\b\b\b\b\b\b\b\b\b\b\b\b\b\b\b\b\b\b - ETA: 0s\b\b\b\b\b\b\b\b\b\b\b\b\b\b\b\b\b\b\b\b\b\b\b\b\b\b\b\b\b\b\b\b\b\b\b\b\b\b\b\b\b\b\b\b\b\b\b\b\b\b - ETA: 0s\b\b\b\b\b\b\b\b\b\b\b\b\b\b\b\b\b\b\b\b\b\b\b\b\b\b\b\b\b\b\b\b\b\b\b\b\b\b\b\b\b\b\b\b\b\b\b\b\b\b - ETA: 0s\b\b\b\b\b\b\b\b\b\b\b\b\b\b\b\b\b\b\b\b\b\b\b\b\b\b\b\b\b\b\b\b\b\b\b\b\b\b\b\b\b\b\b\b\b\b\b\b\b\b - 2s     \n"
     ]
    }
   ],
   "source": [
    "nums=500\n",
    "scores=model.evaluate(testX[0:nums,:,:,:],testY[0:nums,:])"
   ]
  },
  {
   "cell_type": "code",
   "execution_count": 5,
   "metadata": {
    "collapsed": false
   },
   "outputs": [
    {
     "name": "stdout",
     "output_type": "stream",
     "text": [
      "Baseline Error: 17.80%\n"
     ]
    }
   ],
   "source": [
    "print(\"Baseline Error: %.2f%%\" % (100-scores[1]*100))"
   ]
  },
  {
   "cell_type": "markdown",
   "metadata": {},
   "source": [
    "## Layers\n",
    "The layer notations of our model are given."
   ]
  },
  {
   "cell_type": "code",
   "execution_count": 7,
   "metadata": {
    "collapsed": false
   },
   "outputs": [
    {
     "name": "stdout",
     "output_type": "stream",
     "text": [
      "_________________________________________________________________\n",
      "Layer (type)                 Output Shape              Param #   \n",
      "=================================================================\n",
      "conv2d_1 (Conv2D)            (None, 32, 32, 32)        896       \n",
      "_________________________________________________________________\n",
      "dropout_1 (Dropout)          (None, 32, 32, 32)        0         \n",
      "_________________________________________________________________\n",
      "conv2d_2 (Conv2D)            (None, 32, 32, 32)        9248      \n",
      "_________________________________________________________________\n",
      "max_pooling2d_1 (MaxPooling2 (None, 32, 16, 16)        0         \n",
      "_________________________________________________________________\n",
      "conv2d_3 (Conv2D)            (None, 64, 16, 16)        18496     \n",
      "_________________________________________________________________\n",
      "dropout_2 (Dropout)          (None, 64, 16, 16)        0         \n",
      "_________________________________________________________________\n",
      "conv2d_4 (Conv2D)            (None, 64, 16, 16)        36928     \n",
      "_________________________________________________________________\n",
      "max_pooling2d_2 (MaxPooling2 (None, 64, 8, 8)          0         \n",
      "_________________________________________________________________\n",
      "conv2d_5 (Conv2D)            (None, 128, 8, 8)         73856     \n",
      "_________________________________________________________________\n",
      "dropout_3 (Dropout)          (None, 128, 8, 8)         0         \n",
      "_________________________________________________________________\n",
      "conv2d_6 (Conv2D)            (None, 128, 8, 8)         147584    \n",
      "_________________________________________________________________\n",
      "max_pooling2d_3 (MaxPooling2 (None, 128, 4, 4)         0         \n",
      "_________________________________________________________________\n",
      "flatten_1 (Flatten)          (None, 2048)              0         \n",
      "_________________________________________________________________\n",
      "dropout_4 (Dropout)          (None, 2048)              0         \n",
      "_________________________________________________________________\n",
      "dense_1 (Dense)              (None, 1024)              2098176   \n",
      "_________________________________________________________________\n",
      "dropout_5 (Dropout)          (None, 1024)              0         \n",
      "_________________________________________________________________\n",
      "dense_2 (Dense)              (None, 512)               524800    \n",
      "_________________________________________________________________\n",
      "dropout_6 (Dropout)          (None, 512)               0         \n",
      "_________________________________________________________________\n",
      "dense_3 (Dense)              (None, 10)                5130      \n",
      "=================================================================\n",
      "Total params: 2,915,114.0\n",
      "Trainable params: 2,915,114.0\n",
      "Non-trainable params: 0.0\n",
      "_________________________________________________________________\n",
      "None\n"
     ]
    }
   ],
   "source": [
    "print(model.summary())"
   ]
  },
  {
   "cell_type": "code",
   "execution_count": 8,
   "metadata": {
    "collapsed": false
   },
   "outputs": [
    {
     "name": "stdout",
     "output_type": "stream",
     "text": [
      " 0  conv2d_1         :  conv2d_1         32  (3, 3)\n",
      " 1  Dropout          :  dropout_1\n",
      " 2  conv2d_2         :  conv2d_2         32  (3, 3)\n",
      " 3  MaxPooling2D     :  max_pooling2d_1\n",
      " 4  conv2d_3         :  conv2d_3         64  (3, 3)\n",
      " 5  Dropout          :  dropout_2\n",
      " 6  conv2d_4         :  conv2d_4         64  (3, 3)\n",
      " 7  MaxPooling2D     :  max_pooling2d_2\n",
      " 8  conv2d_5         :  conv2d_5         128  (3, 3)\n",
      " 9  Dropout          :  dropout_3\n",
      "10  conv2d_6         :  conv2d_6         128  (3, 3)\n",
      "11  MaxPooling2D     :  max_pooling2d_3\n",
      "12  Flatten          :  flatten_1\n",
      "13  Dropout          :  dropout_4\n",
      "14  Dense            :  dense_1\n",
      "15  Dropout          :  dropout_5\n",
      "16  Dense            :  dense_2\n",
      "17  Dropout          :  dropout_6\n",
      "18  Dense            :  dense_3\n"
     ]
    }
   ],
   "source": [
    "layerCount=-1\n",
    "for layer in model.layers:\n",
    "    layerCount+=1\n",
    "    if layer.__class__.__name__ == \"Conv2D\":\n",
    "        print (str(layerCount).rjust(2) + \"  \" + \n",
    "               layer.name.ljust(15) + \"  :  \" + \n",
    "               layer.get_config()['name'].ljust(15) + \"  \" + \n",
    "               str(layer.get_config()['filters']) + \"  \" + \n",
    "               str(layer.get_config()['kernel_size']))\n",
    "    elif layer.__class__.__name__ == \"Flatten\":\n",
    "        fLayer = layerCount  \n",
    "        print (str(layerCount).rjust(2) + \"  \" + layer.__class__.__name__.ljust(15) + \"  :  \" + layer.get_config()['name'])\n",
    "    else:\n",
    "        print (str(layerCount).rjust(2) + \"  \" + layer.__class__.__name__.ljust(15) + \"  :  \" + layer.get_config()['name'])"
   ]
  },
  {
   "cell_type": "markdown",
   "metadata": {},
   "source": [
    "# Visualization\n",
    "Given a particular output layer (a convolutional layer), we build a new model using the weights for the layers up to that point, and use it to visualize the model output at that layer."
   ]
  },
  {
   "cell_type": "code",
   "execution_count": 7,
   "metadata": {
    "collapsed": false
   },
   "outputs": [
    {
     "name": "stdout",
     "output_type": "stream",
     "text": [
      "_________________________________________________________________\n",
      "Layer (type)                 Output Shape              Param #   \n",
      "=================================================================\n",
      "conv2d_1 (Conv2D)            (None, 32, 32, 32)        896       \n",
      "_________________________________________________________________\n",
      "dropout_1 (Dropout)          (None, 32, 32, 32)        0         \n",
      "_________________________________________________________________\n",
      "conv2d_2 (Conv2D)            (None, 32, 32, 32)        9248      \n",
      "_________________________________________________________________\n",
      "max_pooling2d_1 (MaxPooling2 (None, 32, 16, 16)        0         \n",
      "_________________________________________________________________\n",
      "conv2d_3 (Conv2D)            (None, 64, 16, 16)        18496     \n",
      "_________________________________________________________________\n",
      "dropout_2 (Dropout)          (None, 64, 16, 16)        0         \n",
      "_________________________________________________________________\n",
      "conv2d_4 (Conv2D)            (None, 64, 16, 16)        36928     \n",
      "=================================================================\n",
      "Total params: 65,568.0\n",
      "Trainable params: 65,568.0\n",
      "Non-trainable params: 0.0\n",
      "_________________________________________________________________\n",
      "None\n"
     ]
    }
   ],
   "source": [
    "layerOutput = 6\n",
    "vis_model = Sequential()\n",
    "cLayer=0\n",
    "for layer in model.layers:\n",
    "    nLayer = layers.deserialize({'class_name': layer.__class__.__name__,\n",
    "                            'config': layer.get_config()})\n",
    "    \n",
    "    vis_model.add(nLayer)\n",
    "    nLayer.set_weights(layer.get_weights())\n",
    "    #vis_model.layers[cLayer].set_weights(model.layers)\n",
    "    cLayer+=1\n",
    "    if cLayer>layerOutput:\n",
    "        break\n",
    "print (vis_model.summary())"
   ]
  },
  {
   "cell_type": "code",
   "execution_count": 8,
   "metadata": {
    "collapsed": false
   },
   "outputs": [
    {
     "data": {
      "image/png": "[encoded data removed]",
      "text/plain": [
       "<matplotlib.figure.Figure at 0x1fe88db2da0>"
      ]
     },
     "metadata": {},
     "output_type": "display_data"
    },
    {
     "data": {
      "image/png": "[encoded data removed]",
      "text/plain": [
       "<matplotlib.figure.Figure at 0x1fe88e55b00>"
      ]
     },
     "metadata": {},
     "output_type": "display_data"
    }
   ],
   "source": [
    "index=random.randrange(9999)\n",
    "#index=random.sample(range(10000),10)\n",
    "#index=3125\n",
    "name_lst = ['airplane','automobile','bird','cat','deer','dog','frog','horse','ship','truck']\n",
    "plt.imshow(testX[index,:,:,:].transpose(1,2,0))\n",
    "plt.title(str(index).ljust(6) + \" : \" + name_lst[int(np.dot(np.linspace(0,9,10),testY[index]))])\n",
    "plt.show()\n",
    "\n",
    "vis_layer = vis_model.predict(testX[index:index+1,:,:,:])\n",
    "# Select the image (i.e. down-dim from 1 -> 0); then transpose to correct imshow format\n",
    "#vis_layer initial format: [batch index, filter index, imageDim1, imageDim2] -> [imageDim1, imageDim2, filter index]\n",
    "vis_layer = vis_layer[0,:,:,:]\n",
    "vis_layer = vis_layer.transpose(1,2,0)\n",
    "num_plots = vis_layer.shape[2]\n",
    "side = math.ceil(math.sqrt(num_plots))\n",
    "fig = plt.figure(figsize=(15,15))\n",
    "#fig = plt.figure()\n",
    "for i in range(num_plots):\n",
    "    a = fig.add_subplot(side,side,i+1)\n",
    "    plt.imshow(vis_layer[:,:,i])\n",
    "plt.show()"
   ]
  },
  {
   "cell_type": "markdown",
   "metadata": {},
   "source": [
    "# Input Image Gradient Ascent\n",
    "Here we find what features each layer is likely looking for"
   ]
  },
  {
   "cell_type": "code",
   "execution_count": 33,
   "metadata": {
    "collapsed": false
   },
   "outputs": [
    {
     "name": "stdout",
     "output_type": "stream",
     "text": [
      "_________________________________________________________________\n",
      "Layer (type)                 Output Shape              Param #   \n",
      "=================================================================\n",
      "input_2 (InputLayer)         (None, 3, None, None)     0         \n",
      "_________________________________________________________________\n",
      "conv2d_1 (Conv2D)            (None, 32, None, None)    896       \n",
      "_________________________________________________________________\n",
      "dropout_1 (Dropout)          (None, 32, None, None)    0         \n",
      "_________________________________________________________________\n",
      "conv2d_2 (Conv2D)            (None, 32, None, None)    9248      \n",
      "_________________________________________________________________\n",
      "max_pooling2d_1 (MaxPooling2 (None, 32, None, None)    0         \n",
      "_________________________________________________________________\n",
      "conv2d_3 (Conv2D)            (None, 64, None, None)    18496     \n",
      "_________________________________________________________________\n",
      "dropout_2 (Dropout)          (None, 64, None, None)    0         \n",
      "_________________________________________________________________\n",
      "conv2d_4 (Conv2D)            (None, 64, None, None)    36928     \n",
      "_________________________________________________________________\n",
      "max_pooling2d_2 (MaxPooling2 (None, 64, None, None)    0         \n",
      "_________________________________________________________________\n",
      "conv2d_5 (Conv2D)            (None, 128, None, None)   73856     \n",
      "_________________________________________________________________\n",
      "dropout_3 (Dropout)          (None, 128, None, None)   0         \n",
      "_________________________________________________________________\n",
      "conv2d_6 (Conv2D)            (None, 128, None, None)   147584    \n",
      "_________________________________________________________________\n",
      "max_pooling2d_3 (MaxPooling2 (None, 128, None, None)   0         \n",
      "=================================================================\n",
      "Total params: 287,008.0\n",
      "Trainable params: 287,008.0\n",
      "Non-trainable params: 0.0\n",
      "_________________________________________________________________\n",
      "None\n"
     ]
    }
   ],
   "source": [
    "layerOutput = 11\n",
    "vis_model = Sequential()\n",
    "vis_model.add(InputLayer(input_shape=(3,None,None)))\n",
    "cLayer=0\n",
    "for layer in model.layers:\n",
    "    nLayer = layers.deserialize({'class_name': layer.__class__.__name__,\n",
    "                            'config': layer.get_config()})\n",
    "    \n",
    "    vis_model.add(nLayer)\n",
    "    nLayer.set_weights(layer.get_weights())\n",
    "    #vis_model.layers[cLayer].set_weights(model.layers)\n",
    "    cLayer+=1\n",
    "    if cLayer>layerOutput:\n",
    "        break\n",
    "#for layer in vis_model.layers:\n",
    "#    if type(layer) is keras.layers.core.Dropout:\n",
    "#        vis_model.layers.remove(layer)\n",
    "print (vis_model.summary())"
   ]
  },
  {
   "cell_type": "code",
   "execution_count": 53,
   "metadata": {
    "collapsed": false
   },
   "outputs": [
    {
     "name": "stdout",
     "output_type": "stream",
     "text": [
      " 0  input_2          :  input_2\n",
      " 1  conv2d_1         :  conv2d_1         32  (3, 3)\n",
      " 2  dropout_1        :  dropout_1\n",
      " 3  conv2d_2         :  conv2d_2         32  (3, 3)\n",
      " 4  max_pooling2d_1  :  max_pooling2d_1\n",
      " 5  conv2d_3         :  conv2d_3         64  (3, 3)\n",
      " 6  dropout_2        :  dropout_2\n",
      " 7  conv2d_4         :  conv2d_4         64  (3, 3)\n",
      " 8  max_pooling2d_2  :  max_pooling2d_2\n",
      " 9  conv2d_5         :  conv2d_5         128  (3, 3)\n",
      "10  dropout_3        :  dropout_3\n",
      "11  conv2d_6         :  conv2d_6         128  (3, 3)\n",
      "12  max_pooling2d_3  :  max_pooling2d_3\n"
     ]
    }
   ],
   "source": [
    "layerCount=-1\n",
    "convL = []\n",
    "for layer in vis_model.layers:\n",
    "    layerCount+=1\n",
    "    if layer.__class__.__name__ == \"Conv2D\":\n",
    "        print (str(layerCount).rjust(2) + \"  \" + \n",
    "               layer.name.ljust(15) + \"  :  \" + \n",
    "               layer.get_config()['name'].ljust(15) + \"  \" + \n",
    "               str(layer.get_config()['filters']) + \"  \" + \n",
    "               str(layer.get_config()['kernel_size']))\n",
    "        convL.append(layerCount)\n",
    "    else:\n",
    "        print (str(layerCount).rjust(2) + \"  \" + layer.name.ljust(15) + \"  :  \" + layer.get_config()['name'])"
   ]
  },
  {
   "cell_type": "code",
   "execution_count": 69,
   "metadata": {
    "collapsed": true
   },
   "outputs": [],
   "source": [
    "def tensor_to_image(tensor):\n",
    "    print(type(tensor))\n",
    "    tensor = 0.1*((tensor - tensor.mean())/(tensor.std() + 1e-6))\n",
    "    tensor = np.clip(tensor+0.5,0,1)\n",
    "    tensor *= 255\n",
    "    return np.clip(tensor.transpose(1,2,0),0,255).astype('uint8')"
   ]
  },
  {
   "cell_type": "code",
   "execution_count": 51,
   "metadata": {
    "collapsed": false
   },
   "outputs": [
    {
     "name": "stderr",
     "output_type": "stream",
     "text": [
      "100%|█████████████████████████████████████████████████████████████████████████████████████████████████| 64/64 [08:33<00:00,  7.94s/it]\n"
     ]
    }
   ],
   "source": [
    "layerSelect = 5\n",
    "baseDim = 128\n",
    "in_image = vis_model.input\n",
    "nu = 1\n",
    "iterations = 30\n",
    "#baseForm = np.random.random((1, 3,baseDim,baseDim))\n",
    "#baseForm = baseForm[0:0,:,:,:]\n",
    "baseForm = []\n",
    "assert(vis_model.layers[layerSelect].rank == 2)\n",
    "layer_dict = dict([(layer.name, layer) for layer in vis_model.layers])\n",
    "layer_name = vis_model.layers[layerSelect].name\n",
    "nFilters = vis_model.layers[layerSelect].get_config()['filters']\n",
    "    \n",
    "for filterSelect in tqdm(range(nFilters)): \n",
    "    baseImage = np.random.random((1, 3,baseDim,baseDim))\n",
    "    baseImage = 20*(baseImage-0.2) + 128\n",
    "    layerOut = layer_dict[layer_name].output\n",
    "    loss = K.mean(layerOut[:,filterSelect,:,:])\n",
    "    gradients = K.gradients(loss,in_image)[0]\n",
    "    gradients /= K.sqrt(K.mean(K.square(gradients))) + 1e-6\n",
    "    lossGrad = K.function([in_image, K.learning_phase()], [loss, gradients])\n",
    "\n",
    "    for i in range(iterations):\n",
    "        lossN, gradN = lossGrad([baseImage,1])\n",
    "        #pdb.set_trace()\n",
    "        baseImage += gradN*nu\n",
    "    baseForm.append(np.copy(baseImage))"
   ]
  },
  {
   "cell_type": "code",
   "execution_count": 9,
   "metadata": {
    "collapsed": false
   },
   "outputs": [
    {
     "data": {
      "text/plain": [
       "'\\nfig = plt.figure(figsize=(150,150))\\nside=math.ceil(math.sqrt(nFilters))\\nif not os.path.exists(\"layers\"):\\n    os.makedirs(\"layers\")\\nfor i in range(nFilters):\\n    #a = fig.add_subplot(side,side,i+1)\\n    plt.imshow(tensor_to_image(baseForm[i][0]))\\n    plt.savefig(\"layers/testIm\" + str(i)+\".png\",bbox_inches=\\'tight\\')\\nplt.savefig(\"testIm.png\",bbox_inches=\\'tight\\')\\n'"
      ]
     },
     "execution_count": 9,
     "metadata": {},
     "output_type": "execute_result"
    }
   ],
   "source": [
    "'''\n",
    "fig = plt.figure(figsize=(150,150))\n",
    "side=math.ceil(math.sqrt(nFilters))\n",
    "if not os.path.exists(\"layers\"):\n",
    "    os.makedirs(\"layers\")\n",
    "for i in range(nFilters):\n",
    "    #a = fig.add_subplot(side,side,i+1)\n",
    "    plt.imshow(tensor_to_image(baseForm[i][0]))\n",
    "    plt.savefig(\"layers/testIm\" + str(i)+\".png\",bbox_inches='tight')\n",
    "plt.savefig(\"testIm.png\",bbox_inches='tight')\n",
    "'''"
   ]
  },
  {
   "cell_type": "markdown",
   "metadata": {},
   "source": [
    "# Training Maximizer"
   ]
  },
  {
   "cell_type": "code",
   "execution_count": 228,
   "metadata": {
    "collapsed": false
   },
   "outputs": [
    {
     "name": "stdout",
     "output_type": "stream",
     "text": [
      "_________________________________________________________________\n",
      "Layer (type)                 Output Shape              Param #   \n",
      "=================================================================\n",
      "input_3 (InputLayer)         (None, 3, None, None)     0         \n",
      "_________________________________________________________________\n",
      "conv2d_1 (Conv2D)            (None, 32, None, None)    896       \n",
      "_________________________________________________________________\n",
      "dropout_1 (Dropout)          (None, 32, None, None)    0         \n",
      "_________________________________________________________________\n",
      "conv2d_2 (Conv2D)            (None, 32, None, None)    9248      \n",
      "_________________________________________________________________\n",
      "max_pooling2d_1 (MaxPooling2 (None, 32, None, None)    0         \n",
      "_________________________________________________________________\n",
      "conv2d_3 (Conv2D)            (None, 64, None, None)    18496     \n",
      "_________________________________________________________________\n",
      "dropout_2 (Dropout)          (None, 64, None, None)    0         \n",
      "_________________________________________________________________\n",
      "conv2d_4 (Conv2D)            (None, 64, None, None)    36928     \n",
      "_________________________________________________________________\n",
      "max_pooling2d_2 (MaxPooling2 (None, 64, None, None)    0         \n",
      "_________________________________________________________________\n",
      "conv2d_5 (Conv2D)            (None, 128, None, None)   73856     \n",
      "_________________________________________________________________\n",
      "dropout_3 (Dropout)          (None, 128, None, None)   0         \n",
      "_________________________________________________________________\n",
      "conv2d_6 (Conv2D)            (None, 128, None, None)   147584    \n",
      "_________________________________________________________________\n",
      "max_pooling2d_3 (MaxPooling2 (None, 128, None, None)   0         \n",
      "=================================================================\n",
      "Total params: 287,008.0\n",
      "Trainable params: 287,008.0\n",
      "Non-trainable params: 0.0\n",
      "_________________________________________________________________\n",
      "None\n",
      " 0  input_3          :  input_3\n",
      " 1  conv2d_1         :  conv2d_1         32  (3, 3)\n",
      " 2  dropout_1        :  dropout_1\n",
      " 3  conv2d_2         :  conv2d_2         32  (3, 3)\n",
      " 4  max_pooling2d_1  :  max_pooling2d_1\n",
      " 5  conv2d_3         :  conv2d_3         64  (3, 3)\n",
      " 6  dropout_2        :  dropout_2\n",
      " 7  conv2d_4         :  conv2d_4         64  (3, 3)\n",
      " 8  max_pooling2d_2  :  max_pooling2d_2\n",
      " 9  conv2d_5         :  conv2d_5         128  (3, 3)\n",
      "10  dropout_3        :  dropout_3\n",
      "11  conv2d_6         :  conv2d_6         128  (3, 3)\n",
      "12  max_pooling2d_3  :  max_pooling2d_3\n"
     ]
    }
   ],
   "source": [
    "layerOutput = fLayer-1\n",
    "vis_model = Sequential()\n",
    "vis_model.add(InputLayer(input_shape=(3,None,None)))\n",
    "cLayer=0\n",
    "for layer in model.layers:\n",
    "    nLayer = layers.deserialize({'class_name': layer.__class__.__name__,\n",
    "                            'config': layer.get_config()})\n",
    "    vis_model.add(nLayer)\n",
    "    nLayer.set_weights(layer.get_weights())\n",
    "    cLayer+=1\n",
    "    if cLayer>layerOutput:\n",
    "        break\n",
    "print (vis_model.summary())\n",
    "\n",
    "layerCount=-1\n",
    "convL = []\n",
    "for layer in vis_model.layers:\n",
    "    layerCount+=1\n",
    "    if layer.__class__.__name__ == \"Conv2D\":\n",
    "        print (str(layerCount).rjust(2) + \"  \" + \n",
    "               layer.name.ljust(15) + \"  :  \" + \n",
    "               layer.get_config()['name'].ljust(15) + \"  \" + \n",
    "               str(layer.get_config()['filters']) + \"  \" + \n",
    "               str(layer.get_config()['kernel_size']))\n",
    "        convL.append(layerCount)\n",
    "    else:\n",
    "        print (str(layerCount).rjust(2) + \"  \" + layer.name.ljust(15) + \"  :  \" + layer.get_config()['name'])"
   ]
  },
  {
   "cell_type": "code",
   "execution_count": 39,
   "metadata": {
    "collapsed": false
   },
   "outputs": [],
   "source": [
    "vis_outputs = vis_model.layers[1].output\n",
    "#[layer.output for layer in vis_model.layers]\n",
    "vis_eval = K.function([vis_input, K.learning_phase()], [vis_outputs])"
   ]
  },
  {
   "cell_type": "code",
   "execution_count": 46,
   "metadata": {
    "collapsed": false
   },
   "outputs": [],
   "source": [
    "res=vis_eval([trainX[0:1],1.])\n",
    "layerSelect=convL[0]\n",
    "layer_dict = dict([(layer.name, layer) for layer in vis_model.layers])\n",
    "layer_name = vis_model.layers[layerSelect].name\n",
    "nFilters = vis_model.layers[layerSelect].get_config()['filters']"
   ]
  },
  {
   "cell_type": "code",
   "execution_count": 229,
   "metadata": {
    "collapsed": false
   },
   "outputs": [
    {
     "name": "stderr",
     "output_type": "stream",
     "text": [
      "  3%|█▋                                                    | 1825/60000 [11:05<10:49:51,  1.49it/s]"
     ]
    },
    {
     "ename": "KeyboardInterrupt",
     "evalue": "",
     "output_type": "error",
     "traceback": [
      "\u001b[0;31m---------------------------------------------------------------------------\u001b[0m",
      "\u001b[0;31mKeyboardInterrupt\u001b[0m                         Traceback (most recent call last)",
      "\u001b[0;32m<ipython-input-229-03b9d889ed05>\u001b[0m in \u001b[0;36m<module>\u001b[0;34m()\u001b[0m\n\u001b[1;32m      7\u001b[0m     \u001b[1;31m#loss = [K.mean(layer.output,axis=[2,3]) for layer in vis_model.layers]\u001b[0m\u001b[1;33m\u001b[0m\u001b[1;33m\u001b[0m\u001b[0m\n\u001b[1;32m      8\u001b[0m     \u001b[0mlossGrad\u001b[0m \u001b[1;33m=\u001b[0m \u001b[0mK\u001b[0m\u001b[1;33m.\u001b[0m\u001b[0mfunction\u001b[0m\u001b[1;33m(\u001b[0m\u001b[1;33m[\u001b[0m\u001b[0mvis_input\u001b[0m\u001b[1;33m,\u001b[0m \u001b[0mK\u001b[0m\u001b[1;33m.\u001b[0m\u001b[0mlearning_phase\u001b[0m\u001b[1;33m(\u001b[0m\u001b[1;33m)\u001b[0m\u001b[1;33m]\u001b[0m\u001b[1;33m,\u001b[0m \u001b[0mloss\u001b[0m\u001b[1;33m)\u001b[0m\u001b[1;33m\u001b[0m\u001b[0m\n\u001b[0;32m----> 9\u001b[0;31m     \u001b[0mlossT\u001b[0m \u001b[1;33m=\u001b[0m \u001b[0mlossGrad\u001b[0m\u001b[1;33m(\u001b[0m\u001b[1;33m[\u001b[0m\u001b[0mtrainX\u001b[0m\u001b[1;33m[\u001b[0m\u001b[0mimg\u001b[0m\u001b[1;33m:\u001b[0m\u001b[0mimg\u001b[0m\u001b[1;33m+\u001b[0m\u001b[1;36m1\u001b[0m\u001b[1;33m]\u001b[0m\u001b[1;33m,\u001b[0m\u001b[1;36m0\u001b[0m\u001b[1;33m]\u001b[0m\u001b[1;33m)\u001b[0m\u001b[1;33m\u001b[0m\u001b[0m\n\u001b[0m\u001b[1;32m     10\u001b[0m \u001b[1;33m\u001b[0m\u001b[0m\n\u001b[1;32m     11\u001b[0m     \u001b[0mresidues\u001b[0m\u001b[1;33m=\u001b[0m\u001b[1;33m[\u001b[0m\u001b[0mmax_activations\u001b[0m\u001b[1;33m[\u001b[0m\u001b[0mi\u001b[0m\u001b[1;33m]\u001b[0m\u001b[1;33m-\u001b[0m\u001b[0mlossT\u001b[0m\u001b[1;33m[\u001b[0m\u001b[0mi\u001b[0m\u001b[1;33m]\u001b[0m \u001b[1;32mfor\u001b[0m \u001b[0mi\u001b[0m \u001b[1;32min\u001b[0m \u001b[0mrange\u001b[0m\u001b[1;33m(\u001b[0m\u001b[0mlen\u001b[0m\u001b[1;33m(\u001b[0m\u001b[0mconvL\u001b[0m\u001b[1;33m)\u001b[0m\u001b[1;33m)\u001b[0m\u001b[1;33m]\u001b[0m\u001b[1;33m\u001b[0m\u001b[0m\n",
      "\u001b[0;32mC:\\Users\\Abhijit\\AppData\\Local\\conda\\conda\\envs\\keraten\\lib\\site-packages\\keras\\backend\\tensorflow_backend.py\u001b[0m in \u001b[0;36m__call__\u001b[0;34m(self, inputs)\u001b[0m\n\u001b[1;32m   2099\u001b[0m         \u001b[0msession\u001b[0m \u001b[1;33m=\u001b[0m \u001b[0mget_session\u001b[0m\u001b[1;33m(\u001b[0m\u001b[1;33m)\u001b[0m\u001b[1;33m\u001b[0m\u001b[0m\n\u001b[1;32m   2100\u001b[0m         updated = session.run(self.outputs + [self.updates_op],\n\u001b[0;32m-> 2101\u001b[0;31m                               feed_dict=feed_dict)\n\u001b[0m\u001b[1;32m   2102\u001b[0m         \u001b[1;32mreturn\u001b[0m \u001b[0mupdated\u001b[0m\u001b[1;33m[\u001b[0m\u001b[1;33m:\u001b[0m\u001b[0mlen\u001b[0m\u001b[1;33m(\u001b[0m\u001b[0mself\u001b[0m\u001b[1;33m.\u001b[0m\u001b[0moutputs\u001b[0m\u001b[1;33m)\u001b[0m\u001b[1;33m]\u001b[0m\u001b[1;33m\u001b[0m\u001b[0m\n\u001b[1;32m   2103\u001b[0m \u001b[1;33m\u001b[0m\u001b[0m\n",
      "\u001b[0;32mC:\\Users\\Abhijit\\AppData\\Local\\conda\\conda\\envs\\keraten\\lib\\site-packages\\tensorflow\\python\\client\\session.py\u001b[0m in \u001b[0;36mrun\u001b[0;34m(self, fetches, feed_dict, options, run_metadata)\u001b[0m\n\u001b[1;32m    765\u001b[0m     \u001b[1;32mtry\u001b[0m\u001b[1;33m:\u001b[0m\u001b[1;33m\u001b[0m\u001b[0m\n\u001b[1;32m    766\u001b[0m       result = self._run(None, fetches, feed_dict, options_ptr,\n\u001b[0;32m--> 767\u001b[0;31m                          run_metadata_ptr)\n\u001b[0m\u001b[1;32m    768\u001b[0m       \u001b[1;32mif\u001b[0m \u001b[0mrun_metadata\u001b[0m\u001b[1;33m:\u001b[0m\u001b[1;33m\u001b[0m\u001b[0m\n\u001b[1;32m    769\u001b[0m         \u001b[0mproto_data\u001b[0m \u001b[1;33m=\u001b[0m \u001b[0mtf_session\u001b[0m\u001b[1;33m.\u001b[0m\u001b[0mTF_GetBuffer\u001b[0m\u001b[1;33m(\u001b[0m\u001b[0mrun_metadata_ptr\u001b[0m\u001b[1;33m)\u001b[0m\u001b[1;33m\u001b[0m\u001b[0m\n",
      "\u001b[0;32mC:\\Users\\Abhijit\\AppData\\Local\\conda\\conda\\envs\\keraten\\lib\\site-packages\\tensorflow\\python\\client\\session.py\u001b[0m in \u001b[0;36m_run\u001b[0;34m(self, handle, fetches, feed_dict, options, run_metadata)\u001b[0m\n\u001b[1;32m    963\u001b[0m     \u001b[1;32mif\u001b[0m \u001b[0mfinal_fetches\u001b[0m \u001b[1;32mor\u001b[0m \u001b[0mfinal_targets\u001b[0m\u001b[1;33m:\u001b[0m\u001b[1;33m\u001b[0m\u001b[0m\n\u001b[1;32m    964\u001b[0m       results = self._do_run(handle, final_targets, final_fetches,\n\u001b[0;32m--> 965\u001b[0;31m                              feed_dict_string, options, run_metadata)\n\u001b[0m\u001b[1;32m    966\u001b[0m     \u001b[1;32melse\u001b[0m\u001b[1;33m:\u001b[0m\u001b[1;33m\u001b[0m\u001b[0m\n\u001b[1;32m    967\u001b[0m       \u001b[0mresults\u001b[0m \u001b[1;33m=\u001b[0m \u001b[1;33m[\u001b[0m\u001b[1;33m]\u001b[0m\u001b[1;33m\u001b[0m\u001b[0m\n",
      "\u001b[0;32mC:\\Users\\Abhijit\\AppData\\Local\\conda\\conda\\envs\\keraten\\lib\\site-packages\\tensorflow\\python\\client\\session.py\u001b[0m in \u001b[0;36m_do_run\u001b[0;34m(self, handle, target_list, fetch_list, feed_dict, options, run_metadata)\u001b[0m\n\u001b[1;32m   1013\u001b[0m     \u001b[1;32mif\u001b[0m \u001b[0mhandle\u001b[0m \u001b[1;32mis\u001b[0m \u001b[1;32mNone\u001b[0m\u001b[1;33m:\u001b[0m\u001b[1;33m\u001b[0m\u001b[0m\n\u001b[1;32m   1014\u001b[0m       return self._do_call(_run_fn, self._session, feed_dict, fetch_list,\n\u001b[0;32m-> 1015\u001b[0;31m                            target_list, options, run_metadata)\n\u001b[0m\u001b[1;32m   1016\u001b[0m     \u001b[1;32melse\u001b[0m\u001b[1;33m:\u001b[0m\u001b[1;33m\u001b[0m\u001b[0m\n\u001b[1;32m   1017\u001b[0m       return self._do_call(_prun_fn, self._session, handle, feed_dict,\n",
      "\u001b[0;32mC:\\Users\\Abhijit\\AppData\\Local\\conda\\conda\\envs\\keraten\\lib\\site-packages\\tensorflow\\python\\client\\session.py\u001b[0m in \u001b[0;36m_do_call\u001b[0;34m(self, fn, *args)\u001b[0m\n\u001b[1;32m   1020\u001b[0m   \u001b[1;32mdef\u001b[0m \u001b[0m_do_call\u001b[0m\u001b[1;33m(\u001b[0m\u001b[0mself\u001b[0m\u001b[1;33m,\u001b[0m \u001b[0mfn\u001b[0m\u001b[1;33m,\u001b[0m \u001b[1;33m*\u001b[0m\u001b[0margs\u001b[0m\u001b[1;33m)\u001b[0m\u001b[1;33m:\u001b[0m\u001b[1;33m\u001b[0m\u001b[0m\n\u001b[1;32m   1021\u001b[0m     \u001b[1;32mtry\u001b[0m\u001b[1;33m:\u001b[0m\u001b[1;33m\u001b[0m\u001b[0m\n\u001b[0;32m-> 1022\u001b[0;31m       \u001b[1;32mreturn\u001b[0m \u001b[0mfn\u001b[0m\u001b[1;33m(\u001b[0m\u001b[1;33m*\u001b[0m\u001b[0margs\u001b[0m\u001b[1;33m)\u001b[0m\u001b[1;33m\u001b[0m\u001b[0m\n\u001b[0m\u001b[1;32m   1023\u001b[0m     \u001b[1;32mexcept\u001b[0m \u001b[0merrors\u001b[0m\u001b[1;33m.\u001b[0m\u001b[0mOpError\u001b[0m \u001b[1;32mas\u001b[0m \u001b[0me\u001b[0m\u001b[1;33m:\u001b[0m\u001b[1;33m\u001b[0m\u001b[0m\n\u001b[1;32m   1024\u001b[0m       \u001b[0mmessage\u001b[0m \u001b[1;33m=\u001b[0m \u001b[0mcompat\u001b[0m\u001b[1;33m.\u001b[0m\u001b[0mas_text\u001b[0m\u001b[1;33m(\u001b[0m\u001b[0me\u001b[0m\u001b[1;33m.\u001b[0m\u001b[0mmessage\u001b[0m\u001b[1;33m)\u001b[0m\u001b[1;33m\u001b[0m\u001b[0m\n",
      "\u001b[0;32mC:\\Users\\Abhijit\\AppData\\Local\\conda\\conda\\envs\\keraten\\lib\\site-packages\\tensorflow\\python\\client\\session.py\u001b[0m in \u001b[0;36m_run_fn\u001b[0;34m(session, feed_dict, fetch_list, target_list, options, run_metadata)\u001b[0m\n\u001b[1;32m    998\u001b[0m                 run_metadata):\n\u001b[1;32m    999\u001b[0m       \u001b[1;31m# Ensure any changes to the graph are reflected in the runtime.\u001b[0m\u001b[1;33m\u001b[0m\u001b[1;33m\u001b[0m\u001b[0m\n\u001b[0;32m-> 1000\u001b[0;31m       \u001b[0mself\u001b[0m\u001b[1;33m.\u001b[0m\u001b[0m_extend_graph\u001b[0m\u001b[1;33m(\u001b[0m\u001b[1;33m)\u001b[0m\u001b[1;33m\u001b[0m\u001b[0m\n\u001b[0m\u001b[1;32m   1001\u001b[0m       \u001b[1;32mwith\u001b[0m \u001b[0merrors\u001b[0m\u001b[1;33m.\u001b[0m\u001b[0mraise_exception_on_not_ok_status\u001b[0m\u001b[1;33m(\u001b[0m\u001b[1;33m)\u001b[0m \u001b[1;32mas\u001b[0m \u001b[0mstatus\u001b[0m\u001b[1;33m:\u001b[0m\u001b[1;33m\u001b[0m\u001b[0m\n\u001b[1;32m   1002\u001b[0m         return tf_session.TF_Run(session, options,\n",
      "\u001b[0;32mC:\\Users\\Abhijit\\AppData\\Local\\conda\\conda\\envs\\keraten\\lib\\site-packages\\tensorflow\\python\\client\\session.py\u001b[0m in \u001b[0;36m_extend_graph\u001b[0;34m(self)\u001b[0m\n\u001b[1;32m   1047\u001b[0m         \u001b[1;32mwith\u001b[0m \u001b[0merrors\u001b[0m\u001b[1;33m.\u001b[0m\u001b[0mraise_exception_on_not_ok_status\u001b[0m\u001b[1;33m(\u001b[0m\u001b[1;33m)\u001b[0m \u001b[1;32mas\u001b[0m \u001b[0mstatus\u001b[0m\u001b[1;33m:\u001b[0m\u001b[1;33m\u001b[0m\u001b[0m\n\u001b[1;32m   1048\u001b[0m           tf_session.TF_ExtendGraph(\n\u001b[0;32m-> 1049\u001b[0;31m               self._session, graph_def.SerializeToString(), status)\n\u001b[0m\u001b[1;32m   1050\u001b[0m         \u001b[0mself\u001b[0m\u001b[1;33m.\u001b[0m\u001b[0m_opened\u001b[0m \u001b[1;33m=\u001b[0m \u001b[1;32mTrue\u001b[0m\u001b[1;33m\u001b[0m\u001b[0m\n\u001b[1;32m   1051\u001b[0m \u001b[1;33m\u001b[0m\u001b[0m\n",
      "\u001b[0;31mKeyboardInterrupt\u001b[0m: "
     ]
    }
   ],
   "source": [
    "max_activations = [np.zeros(vis_model.layers[convLayer].get_config()['filters']) for convLayer in convL]\n",
    "max_image_index = [np.zeros(vis_model.layers[convLayer].get_config()['filters']) for convLayer in convL]\n",
    "\n",
    "for img in tqdm(range(60000)):\n",
    "    vis_input = vis_model.input\n",
    "    loss = [K.mean(layer.output,axis=[2,3]) for layer in [vis_model.layers[i] for i in convL]]\n",
    "    #loss = [K.mean(layer.output,axis=[2,3]) for layer in vis_model.layers]\n",
    "    lossGrad = K.function([vis_input, K.learning_phase()], loss)\n",
    "    lossT = lossGrad([trainX[img:img+1],0])\n",
    "\n",
    "    residues=[max_activations[i]-lossT[i] for i in range(len(convL))]\n",
    "    for i in range(len(convL)):\n",
    "        max_image_index[i][np.where(residues[i]<0)[1]] = img\n",
    "        max_activations[i][np.where(residues[i]<0)[1]]=lossT[i][0,np.where(residues[i]<0)[1]]"
   ]
  },
  {
   "cell_type": "code",
   "execution_count": 227,
   "metadata": {
    "collapsed": false
   },
   "outputs": [
    {
     "data": {
      "text/plain": [
       "array([ 0.,  0.,  0.,  0.,  0.,  0.,  0.,  0.,  0.,  0.,  0.,  0.,  5.,\n",
       "        1.,  5.,  0.,  0.,  0.,  0.,  0.,  4.,  0.,  1.,  0.,  0.,  0.,\n",
       "        0.,  2.,  0.,  0.,  0.,  5.])"
      ]
     },
     "execution_count": 227,
     "metadata": {},
     "output_type": "execute_result"
    }
   ],
   "source": [
    "max_image_index[0]"
   ]
  },
  {
   "cell_type": "code",
   "execution_count": 231,
   "metadata": {
    "collapsed": false
   },
   "outputs": [
    {
     "data": {
      "text/plain": [
       "(3, 32, 32)"
      ]
     },
     "execution_count": 231,
     "metadata": {},
     "output_type": "execute_result"
    }
   ],
   "source": [
    "trainX[0,:,:,:].shape"
   ]
  },
  {
   "cell_type": "code",
   "execution_count": 176,
   "metadata": {
    "collapsed": false
   },
   "outputs": [],
   "source": [
    "residues=[max_activations[i]-lossT[i] for i in range(len(convL))]\n",
    "for i in range(len(convL)):\n",
    "    max_image_index[i][np.where(residues[i]<0)[1]] = img\n",
    "    max_activations[i][np.where(residues[i]<0)[1]]=lossT[i][0,np.where(residues[i]<0)[1]]"
   ]
  }
 ],
 "metadata": {
  "kernelspec": {
   "display_name": "Python 3",
   "language": "python",
   "name": "python3"
  },
  "language_info": {
   "codemirror_mode": {
    "name": "ipython",
    "version": 3
   },
   "file_extension": ".py",
   "mimetype": "text/x-python",
   "name": "python",
   "nbconvert_exporter": "python",
   "pygments_lexer": "ipython3",
   "version": "3.5.2"
  }
 },
 "nbformat": 4,
 "nbformat_minor": 2
}
